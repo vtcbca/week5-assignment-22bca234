{
 "cells": [
  {
   "cell_type": "markdown",
   "id": "c5169720",
   "metadata": {},
   "source": [
    "# WEEK-5   ASSIGNMENT"
   ]
  },
  {
   "cell_type": "markdown",
   "id": "25de02f7",
   "metadata": {},
   "source": [
    "###  1.Write a python program to create CSV filestudent.csv(sid,sname,city,contact) using 10 records."
   ]
  },
  {
   "cell_type": "code",
   "execution_count": 1,
   "id": "7eab54da",
   "metadata": {},
   "outputs": [],
   "source": [
    "import csv"
   ]
  },
  {
   "cell_type": "markdown",
   "id": "f360784d",
   "metadata": {},
   "source": [
    "### For inputting 5 records directly"
   ]
  },
  {
   "cell_type": "code",
   "execution_count": 2,
   "id": "47c173fe",
   "metadata": {},
   "outputs": [],
   "source": [
    "input_list=[[101,'OM','Bardoli',9012365432],\n",
    "           [102,'Sai','Surat',9012345678],\n",
    "           [103,'Ram','Vadodara',8200123455],\n",
    "          [104,'Radha','Navsari',9925778989],\n",
    "           [105,'Krishna','Jamnagar',9099226754]]"
   ]
  },
  {
   "cell_type": "markdown",
   "id": "902f0ca8",
   "metadata": {},
   "source": [
    "### For inputting 5 records from user"
   ]
  },
  {
   "cell_type": "code",
   "execution_count": 3,
   "id": "fc996bc0",
   "metadata": {},
   "outputs": [
    {
     "name": "stdout",
     "output_type": "stream",
     "text": [
      "Enter Student ID : 106\n",
      "Enter Student Name : Shiv\n",
      "Enter Student City : Rajkot\n",
      "Enter Student Contact : 8899776655\n",
      "Enter Student ID : 107\n",
      "Enter Student Name : Gopi\n",
      "Enter Student City : Vadodara\n",
      "Enter Student Contact : 8866554433\n",
      "Enter Student ID : 108\n",
      "Enter Student Name : Laxmi\n",
      "Enter Student City : Surat\n",
      "Enter Student Contact : 9911223344\n",
      "Enter Student ID : 109\n",
      "Enter Student Name : Prathana\n",
      "Enter Student City : Valsad\n",
      "Enter Student Contact : 778899000123\n",
      "Enter Student ID : 110\n",
      "Enter Student Name : Saraswati\n",
      "Enter Student City : Bardoli\n",
      "Enter Student Contact : 9012678545\n"
     ]
    }
   ],
   "source": [
    "for i in range(5):\n",
    "    sid=int(input('Enter Student ID : '))\n",
    "    sname=input('Enter Student Name : ')\n",
    "    city=input('Enter Student City : ')\n",
    "    contact=int(input('Enter Student Contact : '))\n",
    "    input_list.append((sid,sname,city,contact))"
   ]
  },
  {
   "cell_type": "markdown",
   "id": "d4267180",
   "metadata": {},
   "source": [
    "### Writing the CSV file"
   ]
  },
  {
   "cell_type": "code",
   "execution_count": 4,
   "id": "460d55ac",
   "metadata": {},
   "outputs": [],
   "source": [
    "with open('student.csv','w',newline='') as csvfile:\n",
    "    write_obj=csv.writer(csvfile)\n",
    "    header=['S_ID','S_NAME','S_CITY','S_CONTACT_NO']\n",
    "    write_obj.writerow(header)\n",
    "    write_obj.writerows(input_list)"
   ]
  },
  {
   "cell_type": "markdown",
   "id": "158d917e",
   "metadata": {},
   "source": [
    "### Reading the CSV file"
   ]
  },
  {
   "cell_type": "code",
   "execution_count": 5,
   "id": "1643927a",
   "metadata": {},
   "outputs": [
    {
     "name": "stdout",
     "output_type": "stream",
     "text": [
      "['S_ID', 'S_NAME', 'S_CITY', 'S_CONTACT_NO']\n",
      "['101', 'OM', 'Bardoli', '9012365432']\n",
      "['102', 'Sai', 'Surat', '9012345678']\n",
      "['103', 'Ram', 'Vadodara', '8200123455']\n",
      "['104', 'Radha', 'Navsari', '9925778989']\n",
      "['105', 'Krishna', 'Jamnagar', '9099226754']\n",
      "['106', 'Shiv', 'Rajkot', '8899776655']\n",
      "['107', 'Gopi', 'Vadodara', '8866554433']\n",
      "['108', 'Laxmi', 'Surat', '9911223344']\n",
      "['109', 'Prathana', 'Valsad', '778899000123']\n",
      "['110', 'Saraswati', 'Bardoli', '9012678545']\n"
     ]
    }
   ],
   "source": [
    "with open('student.csv','r',) as csvfile:\n",
    "    read_obj=csv.reader(csvfile)\n",
    "    for row in read_obj:\n",
    "        print(row)"
   ]
  }
 ],
 "metadata": {
  "kernelspec": {
   "display_name": "Python 3 (ipykernel)",
   "language": "python",
   "name": "python3"
  },
  "language_info": {
   "codemirror_mode": {
    "name": "ipython",
    "version": 3
   },
   "file_extension": ".py",
   "mimetype": "text/x-python",
   "name": "python",
   "nbconvert_exporter": "python",
   "pygments_lexer": "ipython3",
   "version": "3.10.7"
  }
 },
 "nbformat": 4,
 "nbformat_minor": 5
}
