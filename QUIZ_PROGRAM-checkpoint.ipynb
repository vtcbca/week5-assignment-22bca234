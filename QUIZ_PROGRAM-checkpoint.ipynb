{
 "cells": [
  {
   "cell_type": "code",
   "execution_count": 1,
   "id": "ca5adba2",
   "metadata": {},
   "outputs": [],
   "source": [
    "import csv "
   ]
  },
  {
   "cell_type": "code",
   "execution_count": 2,
   "id": "327975a8",
   "metadata": {},
   "outputs": [],
   "source": [
    "with open('C:\\\\22BCA234\\\\DB&PYTHON\\\\emp.csv','w',newline='') as csvfile: \n",
    "    write_obj=csv.writer(csvfile)\n",
    "    header=['eid','ename','dept','salary']\n",
    "    write_obj.writerow(header)\n",
    "    records=[[1,'OM','IT',20000],[2,'SAI','HR',50000],[3,'SAI','ACCOUNT',12000],\n",
    "             [4,'RADHA','IT',10000],[5,'KRISHNA','HR',30000]]\n",
    "    write_obj.writerows(records)"
   ]
  },
  {
   "cell_type": "code",
   "execution_count": 3,
   "id": "e254c1cb",
   "metadata": {},
   "outputs": [
    {
     "name": "stdout",
     "output_type": "stream",
     "text": [
      "1 OM IT 20000\n",
      "2 SAI HR 50000\n",
      "5 KRISHNA HR 30000\n"
     ]
    }
   ],
   "source": [
    "from csv import DictReader\n",
    "with open('C:\\\\22BCA234\\\\DB&PYTHON\\\\emp.csv','r',newline='') as read: \n",
    "    read_obj=DictReader(read)\n",
    "    for row in read_obj:\n",
    "        if(int(row['salary'])>15000):\n",
    "            print(row['eid'],row['ename'],row['dept'],row['salary'])"
   ]
  },
  {
   "cell_type": "code",
   "execution_count": null,
   "id": "41b82b80",
   "metadata": {},
   "outputs": [],
   "source": []
  }
 ],
 "metadata": {
  "kernelspec": {
   "display_name": "Python 3 (ipykernel)",
   "language": "python",
   "name": "python3"
  },
  "language_info": {
   "codemirror_mode": {
    "name": "ipython",
    "version": 3
   },
   "file_extension": ".py",
   "mimetype": "text/x-python",
   "name": "python",
   "nbconvert_exporter": "python",
   "pygments_lexer": "ipython3",
   "version": "3.9.6"
  }
 },
 "nbformat": 4,
 "nbformat_minor": 5
}
